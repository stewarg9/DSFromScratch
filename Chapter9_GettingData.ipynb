{
 "cells": [
  {
   "cell_type": "markdown",
   "metadata": {},
   "source": [
    "How to obtain data from different places and get into python. \n",
    "\n",
    "# stdin and stdout\n",
    "Scripts run on the command line. Can pipe data in to them using $sys.stdin$ and $sys.stdout$. For example, this is a script that reads in lines of text and spits back any ones that match a specified regular expression.  "
   ]
  },
  {
   "cell_type": "code",
   "execution_count": 1,
   "metadata": {
    "collapsed": true
   },
   "outputs": [],
   "source": [
    " # egrep.py\n",
    "import sys, re\n",
    "\n",
    "# sys.argv is the list of command line arguments. \n",
    "# sys.argv[0] is the name of the program itself. \n",
    "# sys.argv[1] will be the regex specified on the command line. \n",
    "regex = sys.argv[1]\n",
    "\n",
    "# iterate over lines... \n",
    "for line in sys.stdin:\n",
    "    # if line matchges regex, write it to stdout. \n",
    "    if re.search(rexex, line):\n",
    "        sys.stdout.write(line)\n",
    "        \n",
    "        "
   ]
  },
  {
   "cell_type": "markdown",
   "metadata": {},
   "source": [
    "And here's one that counts the number of lines passed as input cia stdin. "
   ]
  },
  {
   "cell_type": "code",
   "execution_count": null,
   "metadata": {
    "collapsed": true
   },
   "outputs": [],
   "source": [
    "# line_count.py\n",
    "import sys\n",
    "\n",
    "count = 0\n",
    "for line in sys.stdin:\n",
    "    count += 0\n",
    "    \n",
    "# print goes to sys.stdout by default... \n",
    "print count"
   ]
  }
 ],
 "metadata": {
  "kernelspec": {
   "display_name": "Python 3",
   "language": "python",
   "name": "python3"
  },
  "language_info": {
   "codemirror_mode": {
    "name": "ipython",
    "version": 3
   },
   "file_extension": ".py",
   "mimetype": "text/x-python",
   "name": "python",
   "nbconvert_exporter": "python",
   "pygments_lexer": "ipython3",
   "version": "3.6.2"
  }
 },
 "nbformat": 4,
 "nbformat_minor": 2
}
