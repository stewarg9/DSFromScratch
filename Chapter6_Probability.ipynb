{
 "cells": [
  {
   "cell_type": "markdown",
   "metadata": {
    "collapsed": true
   },
   "source": [
    "Definition\n",
    "\n",
    "Probability is a way of quantifying the uncertainty associated with events chosen from some universe of events. \n",
    "\n",
    "Notionally P(E) means the probability of event E. \n",
    "\n",
    "Two events E and F are dependent if knowing something about whether E happens gives us information about whether F happens- and vice versa. Otherwise, they are independent. \n",
    "\n",
    "Mathematically, we say two events E and F are independent if the probability that they both happen is the product of the probabilities that each one happens: \n",
    "\n",
    "P(E,F) = P(E)P(F)\n",
    "\n",
    "Conditional Probability\n",
    "When two events E and F are independent, then as before, we have: \n",
    "\n",
    "P(E,F) = P(E)P(F)\n",
    "\n",
    "If they're not necessarily independent and the probability of F is not zero, then we define the probability of E conditional on F as: \n",
    "\n",
    "P(E|F) = P(E,F) / P(F)\n",
    "\n",
    "Should think of this as the probability that E happens given that we already know that F happens. "
   ]
  },
  {
   "cell_type": "code",
   "execution_count": 27,
   "metadata": {
    "collapsed": true
   },
   "outputs": [],
   "source": [
    "import random\n",
    "import math\n",
    "import collections\n",
    "from matplotlib import pyplot as plt"
   ]
  },
  {
   "cell_type": "code",
   "execution_count": 5,
   "metadata": {},
   "outputs": [
    {
     "name": "stdout",
     "output_type": "stream",
     "text": [
      "P(both | older): 0.49886036468330136\n",
      "P(both | either): 0.3327687383302214\n"
     ]
    }
   ],
   "source": [
    "def random_kid():\n",
    "    return random.choice([\"boy\",\"girl\"])\n",
    "\n",
    "both_girls = 0\n",
    "older_girl = 0\n",
    "either_girl = 0\n",
    "\n",
    "random.seed(0)\n",
    "\n",
    "for _ in range(10000):\n",
    "    younger = random_kid()\n",
    "    older = random_kid()\n",
    "    if older == \"girl\": \n",
    "        older_girl += 1\n",
    "    if older == \"girl\" and younger == \"girl\":\n",
    "        both_girls += 1\n",
    "    if older ==\"girl\" or younger == \"girl\":\n",
    "        either_girl += 1\n",
    "        \n",
    "print(\"P(both | older):\", both_girls / older_girl)       # ~ 1/2\n",
    "print(\"P(both | either):\", both_girls / either_girl)     # ~ 1/3"
   ]
  },
  {
   "cell_type": "markdown",
   "metadata": {},
   "source": [
    "# Bayes Theorem"
   ]
  },
  {
   "cell_type": "markdown",
   "metadata": {},
   "source": [
    "Bayes theorem is a way of reversing conditional probabilities. \n",
    "\n",
    "Say we need to know the probability of some event E conditional on some other event F occurring. But we only have information about the probability of F conditional on E occurring. Using the definition of conditional probability twice tells us that: \n",
    "\n",
    "\n",
    "    P(E|F) = P(E,F) / (PF)\n",
    "           = P(F|E)P(E) / P(F)\n",
    " \n",
    " \n",
    "The event F can be split into two mutually exclusive events \"F and E\" and \"F and not E\". If we write ¬E for \"not E\" (i.e. E doesn't happen), then: \n",
    "\n",
    "    P(F) = P(F,E) + P(F, ¬E)\n",
    "\n",
    "So that: \n",
    "\n",
    "    P(E|F) = P(F|E_P(E) / [P(F|E)P(E) + P(F|¬E)(P¬E)]\n",
    "    \n",
    "  Which is often how Bayes's Theorem is stated. \n",
    "  \n",
    "  \n"
   ]
  },
  {
   "cell_type": "markdown",
   "metadata": {},
   "source": [
    "Random Variable\n",
    "\n",
    "A random variable is a variable whose possible values have an associated probility disribution. A very simple random variable equals 1 if a coin flip turns up heads and 0 if the flip turns up tails. A more complicated one might measure the number of heads observed when flipping a coin 10 times, or a value picked from range(10), where each number is equally likely. \n",
    "\n",
    "The associated distribution gives the probabilities that the variable realises each of its possible values. The coin flip variable equals 0 with probability 0.5 and 1 with probability 0.5. The range(1) variable has a distribution that assigns probability 0.1 to each number from 0 to 9. \n",
    "\n",
    "We will sometimes talk about the expected value of a random variable. this is the average of its values weighted by their probabilities. The coin flip variable has an expected value of (0*1/2 + 1/1/2 = ) 1/2. The range(10) variable has an expected value of (0*0.1 + 1/0.1 + 2/0.1 + 3/0.1... + 9/0.1  = 45/0.1) = 4.5\n",
    "\n",
    "Random variables can be conditioned on events just as other events can be. going back to the child example, if X is the random variable representing the number of girls, X = 0 with probability 0.25, 1 with probability 0.5 and 2 with probability 0.25. \n"
   ]
  },
  {
   "cell_type": "markdown",
   "metadata": {},
   "source": [
    "# Continuous distribution"
   ]
  },
  {
   "cell_type": "markdown",
   "metadata": {
    "collapsed": true
   },
   "source": [
    "A coin flip corresponds to a discrete distribution- one that associates positive probability with discrete outcomes. Often, we'll want to model distributions across a continuum of outcomes. For example, the uniform distribution puts equal weight on all the numbers between 0 and 1. Because there are infinitely many numbers between 0 and 1, this means the weight it assigns to individual points must be zero. For this reason, we represent a continuous density with a probability density function, such that the probability of seeing a value in a certain range, eqiuals the integral of the density function over the interval. "
   ]
  },
  {
   "cell_type": "code",
   "execution_count": 1,
   "metadata": {
    "collapsed": true
   },
   "outputs": [],
   "source": [
    "# Density functiion for the uniform distribution is just: \n",
    "\n",
    "def uniform_pdf(x):\n",
    "    return 1 if x >=0 and x < 1 else 0\n",
    "\n",
    "# Cumulative distribution function\n",
    "# Gives the probability that a random variable is less than or equal to a certain value. \n",
    "# For the Uniform Distribution: \n",
    "\n",
    "def uniform_cdf(x):\n",
    "    \"\"\"returns the probability that a uniform random variable is <= x \"\"\"\n",
    "    \n",
    "    if x < 0:\n",
    "        return 0    # Can't be less than 0. \n",
    "    elif x < 1: \n",
    "        return x    # e.g. P(x <= 0.4) = 0.4\n",
    "    else:\n",
    "        return 1    # uniform random variable is always less than 1. \n",
    "    \n",
    "    "
   ]
  },
  {
   "cell_type": "markdown",
   "metadata": {},
   "source": [
    "## Normal Distribution"
   ]
  },
  {
   "cell_type": "markdown",
   "metadata": {},
   "source": [
    "The normal distribution is the classic bell-shaped curve. It is completely determined by two parameters: \n",
    "its mean ($\\mu$) and\n",
    "its standard deviation ($\\sigma$)\n",
    "\n",
    "The mean indicates where the bell curve is centred and the standard deviation is how wide the curve is. \n",
    "\n",
    "It has the probability density function: \n",
    "\n",
    "$$f( x | \\mu, \\sigma) = \\frac{1}{\\sqrt{2\\pi}\\sigma}exp(-\\frac{(x-\\mu)^2}{2\\sigma^2})$$\n"
   ]
  },
  {
   "cell_type": "code",
   "execution_count": 8,
   "metadata": {
    "scrolled": true
   },
   "outputs": [
    {
     "data": {
      "image/png": "[encoded data removed]",
      "text/plain": [
       "<matplotlib.figure.Figure at 0x1e45bc52278>"
      ]
     },
     "metadata": {},
     "output_type": "display_data"
    }
   ],
   "source": [
    "# python implementation: \n",
    "\n",
    "def normal_pdf(x, mu=0, sigma=1):\n",
    "    sqrt_two_pi = math.sqrt(2 * math.pi)\n",
    "    return (math.exp(-(x-mu) ** 2/ 2 / sigma ** 2) / sqrt_two_pi * sigma)\n",
    "\n",
    "xs = [x / 10.0 for x in range(-50, 50)]\n",
    "plt.plot(xs, [normal_pdf(x, sigma=1) for x in xs], '-', label=\"mu=0,sigma=1\")\n",
    "plt.plot(xs, [normal_pdf(x, sigma=2) for x in xs], '--', label=\"mu=0,sigma=2\")\n",
    "plt.plot(xs, [normal_pdf(x, sigma=0.5) for x in xs], ':', label=\"mu=0,sigma=0.5\")\n",
    "plt.plot(xs, [normal_pdf(x, mu=-1) for x in xs], '-', label=\"mu=-1,sigma=1\")\n",
    "plt.legend()\n",
    "plt.title(\"Various Normal Pdfs\")\n",
    "plt.show()\n"
   ]
  },
  {
   "cell_type": "markdown",
   "metadata": {},
   "source": [
    "When $\\mu$ = 0 and $\\sigma$ =1, its called the standard normal distribution. If Z is a standard normal distribution variable, then it turns out that: \n",
    "$$X = \\sigma Z + \\mu$$ \n",
    "\n",
    "is also normal, but with mean $\\mu$ and standard deviation $\\sigma$. Conversely, if X is a normal random variab;le with mean $\\mu$ and standard deviation $\\sigma$: \n",
    "\n",
    "$$Z = (X - \\mu) / \\sigma$$\n",
    "\n",
    "is also a standard normal variable. \n",
    "\n",
    "The cumulative distribution function for the normal distribution cannot be written in an elementary manner, but, can cheat and use python's math.erf function: \n"
   ]
  },
  {
   "cell_type": "code",
   "execution_count": 10,
   "metadata": {},
   "outputs": [
    {
     "data": {
      "image/png": "[encoded data removed]",
      "text/plain": [
       "<matplotlib.figure.Figure at 0x1e45bd85940>"
      ]
     },
     "metadata": {},
     "output_type": "display_data"
    }
   ],
   "source": [
    "def normal_cdf(x, mu=0, sigma=1):\n",
    "        return (1 + math.erf((x - mu) / math.sqrt(2) / sigma)) / 2\n",
    "    \n",
    "\n",
    "xs = [x / 10.0 for x in range(-50, 50)] \n",
    "plt.plot( xs,[ normal_cdf( x, sigma = 1) for x in xs],'-', label =' mu = 0, sigma = 1') \n",
    "plt.plot( xs,[ normal_cdf( x, sigma = 2) for x in xs],'--', label =' mu = 0, sigma = 2') \n",
    "plt.plot( xs,[ normal_cdf( x, sigma = 0.5) for x in xs],':', label =' mu = 0, sigma = 0.5') \n",
    "plt.plot( xs,[ normal_cdf( x, mu =-1) for x in xs],'-.', label =' mu =-1, sigma = 1') \n",
    "plt.legend( loc = 4) # bottom right \n",
    "plt.title(\" Various Normal cdfs\") \n",
    "plt.show()\n",
    "\n"
   ]
  },
  {
   "cell_type": "markdown",
   "metadata": {},
   "source": [
    "Sometimes, there is a requirement to inverse the CDF, to work out the value of a specified probability. There's no simple way to compute the inverse, but normal_cdf is continuous and strictly increasing, so binary search will work: \n"
   ]
  },
  {
   "cell_type": "code",
   "execution_count": 18,
   "metadata": {
    "collapsed": true
   },
   "outputs": [],
   "source": [
    "def inverse_normal_cdf(p, mu=0, sigma=1, tolerance=0.00001):\n",
    "    \"\"\"Calculate the x value from a normal distribution given a probability p\"\"\"\n",
    "    \n",
    "    # if not standard, compute standard and rescale... \n",
    "    if mu != 0 or sigma != 1: \n",
    "        return mu + sigma * inverse_normal_cdf(p, tolerance=tolerance)\n",
    "    \n",
    "    low_z = -10.0                   #normal_cdf(-10) is (very close to) 0\n",
    "    high_z = 10.0                   #normal_cdf( 10) is (very close to) 1\n",
    "    \n",
    "    while high_z - low_z > tolerance:\n",
    "        mid_z = (low_z + high_z) / 2             # find the midpoint. \n",
    "        mid_p = normal_cdf(mid_z)                # work out the probability for that value\n",
    "        \n",
    "        if mid_p < p:\n",
    "            # midpoint too low, search above it. \n",
    "            low_z = mid_z\n",
    "        elif mid_p > p: \n",
    "            # midpoint too high, search below it. \n",
    "            high_z = mid_z\n",
    "        else:\n",
    "            break\n",
    "            \n",
    "    return mid_z"
   ]
  },
  {
   "cell_type": "code",
   "execution_count": 19,
   "metadata": {},
   "outputs": [
    {
     "data": {
      "text/plain": [
       "0.0"
      ]
     },
     "execution_count": 19,
     "metadata": {},
     "output_type": "execute_result"
    }
   ],
   "source": [
    "inverse_normal_cdf(0.5)"
   ]
  },
  {
   "cell_type": "markdown",
   "metadata": {},
   "source": [
    "## Central Limits Theorem\n",
    "\n",
    "One reason the normal distribution is so useful is the central limits theorem, which says )in essence) that a random variable defined as the average of a large number of independent and identially distributed random variables is itself approximately normally distributed. \n",
    "\n",
    "In particular, if ${x_1}, \\dotsc, {x_n}$ are random variables with mean $\\mu$ and standard deviation $\\sigma$, and if $n$ is large, then: \n",
    "\n",
    "$$ \\frac{1}{n} ({x_1} + \\dots + {x_n}) $$\n",
    "\n",
    "is approximately normally distributed with mean $\\mu$ and standard deviation $\\sigma/\\sqrt{n}$. \n",
    "\n",
    "This is more usefully written as: \n",
    "\n",
    "$$ \\frac{({x_1} + \\dots + {x_n}) - \\sigma n}{\\sigma\\sqrt{n}} $$, with mean 0 and standard deviation 1. \n",
    "\n",
    "An easy way to illustrate this is by looking at binomial random variables, which have two parameters, n and p. A Binomial (n,p) random variable is simply the sum of n independent Bernoulli(p) random variables, each of which equals 1 with probability $p$ and 0 with probability $1-p$."
   ]
  },
  {
   "cell_type": "code",
   "execution_count": 23,
   "metadata": {},
   "outputs": [
    {
     "data": {
      "text/plain": [
       "2"
      ]
     },
     "execution_count": 23,
     "metadata": {},
     "output_type": "execute_result"
    }
   ],
   "source": [
    "def bernoulli_trial(p):\n",
    "    return 1 if random.random() < p else 0\n",
    "\n",
    "def binomial(n,p):\n",
    "    return sum(bernoulli_trial(p) for _ in range(n))\n",
    "\n",
    "#binomial(10,0.2)"
   ]
  },
  {
   "cell_type": "markdown",
   "metadata": {},
   "source": [
    "The mean of a Bernoulli(p) variable is p and its standard deviation is $\\sqrt{[(1-p)}$. The central limits theorem says that as nb gets large, a Binomial(n,p) variable is approximately a normal variable with mean $\\mu = np$ and standard deviation $\\sigma = \\sqrt{np(1 - p}$. \n",
    "\n",
    "If we plot both, you can see the resemblance... "
   ]
  },
  {
   "cell_type": "code",
   "execution_count": 28,
   "metadata": {},
   "outputs": [
    {
     "data": {
      "image/png": "[encoded data removed]",
      "text/plain": [
       "<matplotlib.figure.Figure at 0x1e45be76940>"
      ]
     },
     "metadata": {},
     "output_type": "display_data"
    }
   ],
   "source": [
    "def make_hist(p,n,num_points):\n",
    "    \n",
    "    data = [binomial(n,p) for _ in range(num_points)]\n",
    "    \n",
    "    # use a bar chart to show the actual binomial samples... \n",
    "    histogram = collections.Counter(data)\n",
    "    plt.bar([x - 0.4 for x in histogram.keys()],\n",
    "            [v / num_points for v in histogram.values()], \n",
    "            0.8,\n",
    "            color='0.75')\n",
    "    \n",
    "    mu = p * n\n",
    "    sigma = math.sqrt(n * p * (1-p))\n",
    "    \n",
    "    # use a line chart to show the normal approximation.. \n",
    "    xs = range(min(data), max(data)+1)\n",
    "    ys = [normal_cdf(i+0.5, mu, sigma)- normal_cdf(i - 0.5, mu, sigma)\n",
    "         for i in xs]\n",
    "    plt.plot(xs, ys)\n",
    "    plt.title(\"Binomial distribution vs normal approximation\")\n",
    "    plt.show()\n",
    "    \n",
    "\n",
    "make_hist(0.75,100,10000)\n",
    "    "
   ]
  },
  {
   "cell_type": "markdown",
   "metadata": {},
   "source": [
    "The moral of this approximation is that if you want to know (say) the probability that a fair coin turns up more than 60 heads in 100 flips, you can estimate it as the probability that a Normal(50,5) is greater than 60, which is easier than computing the Binomial(100,0.5) cdf. \n",
    "In most applications, however, the statistical software you use will gladly calculate this for you! \n",
    "\n"
   ]
  },
  {
   "cell_type": "code",
   "execution_count": null,
   "metadata": {
    "collapsed": true
   },
   "outputs": [],
   "source": []
  }
 ],
 "metadata": {
  "kernelspec": {
   "display_name": "Python 3",
   "language": "python",
   "name": "python3"
  },
  "language_info": {
   "codemirror_mode": {
    "name": "ipython",
    "version": 3
   },
   "file_extension": ".py",
   "mimetype": "text/x-python",
   "name": "python",
   "nbconvert_exporter": "python",
   "pygments_lexer": "ipython3",
   "version": "3.6.2"
  }
 },
 "nbformat": 4,
 "nbformat_minor": 2
}
