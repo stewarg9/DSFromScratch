{
 "cells": [
  {
   "cell_type": "markdown",
   "metadata": {},
   "source": [
    "# Arithmetic"
   ]
  },
  {
   "cell_type": "code",
   "execution_count": 19,
   "metadata": {},
   "outputs": [
    {
     "name": "stdout",
     "output_type": "stream",
     "text": [
      "2.5\n",
      "2\n"
     ]
    }
   ],
   "source": [
    "print(5 / 2)   ## Floating point division\n",
    "\n",
    "print(5 // 2)     ## Integer division"
   ]
  },
  {
   "cell_type": "markdown",
   "metadata": {
    "collapsed": true
   },
   "source": [
    "# Strings\n"
   ]
  },
  {
   "cell_type": "code",
   "execution_count": 20,
   "metadata": {},
   "outputs": [
    {
     "data": {
      "text/plain": [
       "'\\\\ts\\\\nt\\\\tring'"
      ]
     },
     "execution_count": 20,
     "metadata": {},
     "output_type": "execute_result"
    }
   ],
   "source": [
    "# strings can be single-quoted or double quoted, \n",
    "#as long as the character is used consistently. \n",
    "\n",
    "string1 = 'string'\n",
    "string2 = \"string\"\n",
    "\n",
    "#backslashes are used to encode special characters. \n",
    "# works with single and double quotes.\n",
    "\"\\ts\\nt\\tring\"\n",
    "\n",
    "# to keep the special charatcers as normal characters,\n",
    "# convert the string to a raw string, by prefixing with an r:\n",
    "r\"\\ts\\nt\\tring\"\n"
   ]
  },
  {
   "cell_type": "markdown",
   "metadata": {},
   "source": [
    "# Exceptions"
   ]
  },
  {
   "cell_type": "code",
   "execution_count": 21,
   "metadata": {},
   "outputs": [
    {
     "name": "stdout",
     "output_type": "stream",
     "text": [
      "Cannot divide by zero!\n",
      "tidying up...\n"
     ]
    }
   ],
   "source": [
    "# exceptions are typically in a try/ except/ finally  block:\n",
    "\n",
    "try:\n",
    "    print(0/0)\n",
    "except ZeroDivisionError:\n",
    "    print(\"Cannot divide by zero!\")\n",
    "finally:\n",
    "    print(\"tidying up...\")"
   ]
  },
  {
   "cell_type": "markdown",
   "metadata": {},
   "source": [
    "# Lists"
   ]
  },
  {
   "cell_type": "code",
   "execution_count": 22,
   "metadata": {},
   "outputs": [
    {
     "name": "stdout",
     "output_type": "stream",
     "text": [
      "21\n",
      "7\n",
      "[0, 1, 2, 3, 4, 5, 6, 9, 8, 7]\n",
      "[0, 1, 2, 3, 4, 5, 6, 9, 8, 7]\n",
      "[0, 1, 2, 3, 4, 5, 6, 89]\n"
     ]
    }
   ],
   "source": [
    "# a list is an ordered collection. \n",
    "# Like an array\n",
    "# 0-indexed- first element is 0. \n",
    "\n",
    "alist = [0,1,2,3,'House']     # just a collection of objects- of any type. \n",
    "\n",
    "intlist = [0,1,2,3,4,5,6]\n",
    "print(sum(intlist))\n",
    "print(len(intlist))\n",
    "\n",
    "# can use ranges to subset:\n",
    "intlist[:3]     # [0,1,2] absolute first three\n",
    "intlist[3:]     # [3,4,5,6] skip first three\n",
    "intlist[3:-2]   # [3,4] can use negative indexes. \n",
    "\n",
    "\n",
    "# can text for membership\n",
    "15 in intlist    # False\n",
    "3 in intlist     # True\n",
    "\n",
    "\n",
    "# can concatenate lists:\n",
    "extra = [9,8,7]\n",
    "intlist.extend(extra)\n",
    "print(intlist)\n",
    "\n",
    "# can crate a new one by assignment and plus... \n",
    "intlist = [0,1,2,3,4,5,6]\n",
    "newlist = intlist + extra\n",
    "print(newlist)\n",
    "\n",
    "# can add to the end of a list by appending:\n",
    "intlist.append(89)\n",
    "print(intlist)"
   ]
  },
  {
   "cell_type": "markdown",
   "metadata": {},
   "source": [
    "# Dictionaries"
   ]
  },
  {
   "cell_type": "code",
   "execution_count": 30,
   "metadata": {},
   "outputs": [
    {
     "name": "stdout",
     "output_type": "stream",
     "text": [
      "50\n",
      "Key not found\n",
      "500\n",
      "None\n",
      "dict_keys(['user', 'text', 'retweet_count', 'hashtags'])\n",
      "dict_values(['joelgrus', 'Data Science is Awesome', 100, ['# data', '# science', '# datascience', '# awesome', '# yolo']])\n",
      "dict_items([('user', 'joelgrus'), ('text', 'Data Science is Awesome'), ('retweet_count', 100), ('hashtags', ['# data', '# science', '# datascience', '# awesome', '# yolo'])])\n"
     ]
    }
   ],
   "source": [
    "# typically created using curly brackets:\n",
    "mydict = {}\n",
    "mydict = dict()   # less common\n",
    "\n",
    "#literal:\n",
    "grades = {\"Joel\" : 50, \"Fred\" : 20}\n",
    "\n",
    "print(grades[\"Joel\"])    # 50, obvs\n",
    "\n",
    "\n",
    "# retrieving  a key that doesn't exist retrurns an error. \n",
    "#print(grades[]\"Kate\"])   # error\"\n",
    "\n",
    "try:\n",
    "    print(grades[\"Kate\"])\n",
    "except KeyError:\n",
    "    print(\"Key not found\")\n",
    "    \n",
    "    \n",
    "# The get method lets you specify a default value to returnif the key doesn't exist:\n",
    "print(grades.get(\"Kate\", 500))\n",
    "print(grades.get(\"Bob\"))  # defaults to returning None if the object isn't found. \n",
    "\n",
    "tweet = { \n",
    "    \"user\" : \"joelgrus\", \n",
    "    \"text\" : \"Data Science is Awesome\", \n",
    "    \"retweet_count\" : 100, \n",
    "    \"hashtags\" : [\"# data\", \"# science\", \"# datascience\", \"# awesome\", \"# yolo\"] \n",
    "}\n",
    "\n",
    "tweet_keys = tweet.keys()\n",
    "print(tweet_keys)\n",
    "\n",
    "tweet_values = tweet.values()\n",
    "print(tweet_values)\n",
    "\n",
    "tweet_items = tweet.items()\n",
    "print(tweet_items)"
   ]
  },
  {
   "cell_type": "markdown",
   "metadata": {},
   "source": [
    "# Default Dict"
   ]
  },
  {
   "cell_type": "code",
   "execution_count": 32,
   "metadata": {},
   "outputs": [
    {
     "name": "stdout",
     "output_type": "stream",
     "text": [
      "defaultdict(<class 'list'>, {'2': 7, '3': 90})\n",
      "[]\n",
      "defaultdict(<class 'list'>, {'2': 7, '3': 90, '4': []})\n"
     ]
    }
   ],
   "source": [
    "# defaultdict adds an object to the dict if you look up a value that doesn't exist. \n",
    "\n",
    "from collections import defaultdict\n",
    "\n",
    "dd = defaultdict(list)\n",
    "\n",
    "dd[\"2\"] = 7\n",
    "dd[\"3\"] = 90\n",
    "print(dd)\n",
    "\n",
    "print(dd[\"4\"])\n",
    "\n",
    "print(dd)\n"
   ]
  },
  {
   "cell_type": "markdown",
   "metadata": {},
   "source": [
    "# Counter"
   ]
  },
  {
   "cell_type": "code",
   "execution_count": 35,
   "metadata": {},
   "outputs": [
    {
     "name": "stdout",
     "output_type": "stream",
     "text": [
      "Counter({5: 6, 1: 5, 0: 4, 6: 4, 7: 4, 2: 3, 3: 3, 4: 1})\n"
     ]
    },
    {
     "data": {
      "text/plain": [
       "[(5, 6), (1, 5), (0, 4)]"
      ]
     },
     "execution_count": 35,
     "metadata": {},
     "output_type": "execute_result"
    }
   ],
   "source": [
    "# turns a list of values into a dictionary, holding \n",
    "# unique objects and their counts. \n",
    "\n",
    "from collections import Counter\n",
    "\n",
    "mylist = [0,0,0,0,1,1,1,1,1,2,2,2,3,3,3,4,5,5,5,5,5,5,6,6,6,6,7,7,7,7]\n",
    "\n",
    "c = Counter(mylist)\n",
    "\n",
    "print(c)\n",
    "\n",
    "# Most common function returns the n( 10 by default) \n",
    "# most common objects and their counts\n",
    "c.most_common(3)"
   ]
  },
  {
   "cell_type": "markdown",
   "metadata": {},
   "source": [
    "# Sets"
   ]
  },
  {
   "cell_type": "code",
   "execution_count": 36,
   "metadata": {},
   "outputs": [
    {
     "data": {
      "text/plain": [
       "{0}"
      ]
     },
     "execution_count": 36,
     "metadata": {},
     "output_type": "execute_result"
    }
   ],
   "source": [
    "# create using set() constructor. \n",
    "\n",
    "# very fast to check membership of a set; very good for de-duping\n",
    "\n",
    "set([0,0,0,0,0,0,0])"
   ]
  },
  {
   "cell_type": "markdown",
   "metadata": {},
   "source": [
    "# Looping"
   ]
  },
  {
   "cell_type": "code",
   "execution_count": null,
   "metadata": {
    "collapsed": true
   },
   "outputs": [],
   "source": [
    "# Python has a while loop: \n",
    "\n",
    "x = 0 \n",
    "while x < 10: \n",
    "    print (x, \"is less than 10\") \n",
    "    x + = 1 \n",
    "    \n",
    "# although more often we’ll use for and in: \n",
    "for x in range( 10): \n",
    "    print (x, \"is less than 10\") \n",
    "    \n",
    "    \n",
    "#If you need more-complex logic, you can use continue and break: \n",
    "for x in range( 10): \n",
    "    if x = = 3: continue # go immediately to the next iteration \n",
    "    if x = = 5: break # quit the loop entirely \n",
    "    print x \n",
    "    \n",
    "#This will print 0, 1, 2, and 4.\n",
    "\n"
   ]
  },
  {
   "cell_type": "markdown",
   "metadata": {},
   "source": [
    "# Sorting\n"
   ]
  },
  {
   "cell_type": "code",
   "execution_count": 41,
   "metadata": {},
   "outputs": [
    {
     "name": "stdout",
     "output_type": "stream",
     "text": [
      "[1, 2, 5, 6.1, 8, 9, 42]\n",
      "[1, 2, 5, 6.1, 8, 9, 42]\n",
      "[9, 8, 5, 6.1, 2, 42, 1]\n",
      "[42, 9, 8, 6.1, 5, 2, 1]\n"
     ]
    },
    {
     "data": {
      "text/plain": [
       "['A', 'c', 'N', 'O', 'q', 'R', 'z']"
      ]
     },
     "execution_count": 41,
     "metadata": {},
     "output_type": "execute_result"
    }
   ],
   "source": [
    "# lists can be sorted in place with the sort() method. \n",
    "a = [9,8,5,6.1,2,42,1]\n",
    "a.sort()\n",
    "print(a)\n",
    "\n",
    "# if you want to return a copy, use the sorted() function:\n",
    "\n",
    "b = [9,8,5,6.1,2,42,1]\n",
    "\n",
    "print(sorted(b))\n",
    "print(b)\n",
    "\n",
    "# Can sort in reverse order by specifying the reverse argument:\n",
    "print(sorted(b, reverse=True))\n",
    "\n",
    "\n",
    "# can use the key argument to tell it how to compare objects, using a function:\n",
    "\n",
    "a = [\"A\",\"q\",\"R\",\"N\",\"c\",\"z\",\"O\"]\n",
    "\n",
    "sorted(a,\n",
    "      key=lambda x :x.lower())"
   ]
  },
  {
   "cell_type": "markdown",
   "metadata": {},
   "source": [
    "# List Comprehensions\n"
   ]
  },
  {
   "cell_type": "code",
   "execution_count": 45,
   "metadata": {},
   "outputs": [
    {
     "name": "stdout",
     "output_type": "stream",
     "text": [
      "[0, 2, 4]\n",
      "[0, 1, 4, 9, 16]\n",
      "[0, 4, 16]\n"
     ]
    }
   ],
   "source": [
    "# used to transform one list into another list., by filtering or aggregating. \n",
    "\n",
    "even_numbers = [x for x in range(5) if x %2 == 0] # [0,2,4]\n",
    "print(even_numbers)\n",
    "\n",
    "squares = [x * x for x in range(5)]\n",
    "print(squares)\n",
    "\n",
    "even_squares = [x*x for x in even_numbers]\n",
    "print(even_squares)"
   ]
  },
  {
   "cell_type": "code",
   "execution_count": 47,
   "metadata": {},
   "outputs": [
    {
     "name": "stdout",
     "output_type": "stream",
     "text": [
      "{0: 0, 1: 1, 2: 4, 3: 9, 4: 16}\n"
     ]
    }
   ],
   "source": [
    "square_dict = {x : x*x for x in range(5)}\n",
    "print(square_dict)"
   ]
  },
  {
   "cell_type": "code",
   "execution_count": 49,
   "metadata": {},
   "outputs": [
    {
     "name": "stdout",
     "output_type": "stream",
     "text": [
      "[(0, 0), (0, 1), (0, 2), (0, 3), (0, 4), (0, 5), (0, 6), (0, 7), (0, 8), (0, 9), (1, 0), (1, 1), (1, 2), (1, 3), (1, 4), (1, 5), (1, 6), (1, 7), (1, 8), (1, 9), (2, 0), (2, 1), (2, 2), (2, 3), (2, 4), (2, 5), (2, 6), (2, 7), (2, 8), (2, 9), (3, 0), (3, 1), (3, 2), (3, 3), (3, 4), (3, 5), (3, 6), (3, 7), (3, 8), (3, 9), (4, 0), (4, 1), (4, 2), (4, 3), (4, 4), (4, 5), (4, 6), (4, 7), (4, 8), (4, 9), (5, 0), (5, 1), (5, 2), (5, 3), (5, 4), (5, 5), (5, 6), (5, 7), (5, 8), (5, 9), (6, 0), (6, 1), (6, 2), (6, 3), (6, 4), (6, 5), (6, 6), (6, 7), (6, 8), (6, 9), (7, 0), (7, 1), (7, 2), (7, 3), (7, 4), (7, 5), (7, 6), (7, 7), (7, 8), (7, 9), (8, 0), (8, 1), (8, 2), (8, 3), (8, 4), (8, 5), (8, 6), (8, 7), (8, 8), (8, 9), (9, 0), (9, 1), (9, 2), (9, 3), (9, 4), (9, 5), (9, 6), (9, 7), (9, 8), (9, 9)]\n",
      "[(0, 1), (0, 2), (0, 3), (0, 4), (0, 5), (0, 6), (0, 7), (0, 8), (0, 9), (1, 2), (1, 3), (1, 4), (1, 5), (1, 6), (1, 7), (1, 8), (1, 9), (2, 3), (2, 4), (2, 5), (2, 6), (2, 7), (2, 8), (2, 9), (3, 4), (3, 5), (3, 6), (3, 7), (3, 8), (3, 9), (4, 5), (4, 6), (4, 7), (4, 8), (4, 9), (5, 6), (5, 7), (5, 8), (5, 9), (6, 7), (6, 8), (6, 9), (7, 8), (7, 9), (8, 9)]\n"
     ]
    }
   ],
   "source": [
    "# A list comprehension can include multiple fors: \n",
    "pairs = [\n",
    "    ( x, y) \n",
    "    for x in range( 10) \n",
    "    for y in range( 10)\n",
    "] # 100 pairs (0,0) (0,1) ... (9,8), (9,9) \n",
    "\n",
    "# and later fors can use the results of earlier ones: \n",
    "increasing_pairs = [\n",
    "    ( x, y) \n",
    "    # only pairs with x < y, \n",
    "    for x in range( 10)   # range( lo, hi) equals \n",
    "    for y in range( x + 1, 10)\n",
    "] \n",
    "# [lo, lo + 1, ..., hi - 1]\n",
    "\n",
    "print(pairs)\n",
    "\n",
    "print(increasing_pairs)"
   ]
  },
  {
   "cell_type": "code",
   "execution_count": 65,
   "metadata": {},
   "outputs": [
    {
     "name": "stdout",
     "output_type": "stream",
     "text": [
      "[0.28361821790671515, 0.674964847134956, 0.45683115105830563, 0.6858614854745947]\n",
      "0.5714025946899135\n",
      "0.5714025946899135\n",
      "[4, 5, 8, 1, 2, 6, 7, 3, 0, 9]\n",
      "Bob\n",
      "[4, 15, 47, 23, 2, 26]\n",
      "[55, 8, 38, 22, 24, 26]\n"
     ]
    }
   ],
   "source": [
    "import random\n",
    "\n",
    "four_uniform_randoms = [random.random() for _ in range(4)]\n",
    "\n",
    "print(four_uniform_randoms)\n",
    "\n",
    "# random numbers are actually pseudo-random. \n",
    "# set the seed to esure a repeatable result.\n",
    "random.seed(10)\n",
    "print(random.random())\n",
    "random.seed(10)\n",
    "print(random.random())\n",
    "\n",
    "\n",
    "# Random range picks numbers within a defined range:\n",
    "random.randrange(10) # pick a number in the range 0 - 9\n",
    "random.randrange(3,6)  # pick a number in the range 3 - 5\n",
    "\n",
    "\n",
    "# random.shuffle randomly reorders elements in a list. \n",
    "# Note that it shuffles in place!\n",
    "up_to_ten = [x for x in range(10)]\n",
    "random.shuffle(up_to_ten)\n",
    "print(up_to_ten)\n",
    "\n",
    "# random.choice picks from a list at random:\n",
    "my_best_friend = random.choice([\" Alice\", \"Bob\", \"Charlie\"])\n",
    "print(my_best_friend)\n",
    "\n",
    "# random.sample lets you pick from a list without \n",
    "# diplicates- that is, without replacing the element\n",
    "lottery_numbers = range( 60) \n",
    "winning_numbers = random.sample( lottery_numbers, 6)\n",
    "print(winning_numbers)\n",
    "\n",
    "# to choose with duplicates, just make N calls to choice:\n",
    "winning_numbers = [random.choice(lottery_numbers) for _ in range(6)]\n",
    "print(winning_numbers)"
   ]
  },
  {
   "cell_type": "markdown",
   "metadata": {},
   "source": [
    "# Classes\n",
    "\n"
   ]
  },
  {
   "cell_type": "code",
   "execution_count": null,
   "metadata": {
    "collapsed": true
   },
   "outputs": [],
   "source": [
    "# by convention, we give classes PascalCase names \n",
    "class Set:\n",
    "\n",
    "    # these are the member functions \n",
    "    # every one takes a first parameter \"self\" (another convention) \n",
    "    # that refers to the particular Set object being used \n",
    "    def __init__( self, values = None): \n",
    "        \"\"\" This is the constructor. \n",
    "        It gets called when you create a new Set. \n",
    "        You would use it like \n",
    "            s1 = Set() # empty set \n",
    "            s2 = Set([ 1,2,2,3]) # initialize with values\n",
    "        \"\"\" \n",
    "        self.dict = {} # each instance of Set has its own dict property \n",
    "                       # which is what we'll use to track memberships \n",
    "            \n",
    "        if values is not None: \n",
    "            for value in values: \n",
    "                self.add( value) \n",
    "                \n",
    "    def __repr__( self): \n",
    "        \"\"\" this is the string representation of a Set object \n",
    "        if you type it at the Python prompt or pass it to str()\n",
    "        \"\"\" \n",
    "        return \"Set: \" + str( self.dict.keys()) \n",
    "    \n",
    "    # we'll represent membership by being a key in self.dict \n",
    "    # with value True \n",
    "    \n",
    "    def add( self, value): \n",
    "        self.dict[ value] = True \n",
    "        \n",
    "    # value is in the Set if it's a key in the dictionary \n",
    "    def contains( self, value): \n",
    "        return value in self.dict \n",
    "    \n",
    "    def remove( self, value): \n",
    "        del self.dict[ value]\n",
    "        "
   ]
  },
  {
   "cell_type": "markdown",
   "metadata": {},
   "source": [
    "# Enumerate"
   ]
  },
  {
   "cell_type": "code",
   "execution_count": 68,
   "metadata": {},
   "outputs": [
    {
     "name": "stdout",
     "output_type": "stream",
     "text": [
      "0: fred\n",
      "1: Bob\n",
      "2: Alice\n"
     ]
    }
   ],
   "source": [
    "# Enumerate lets you iterate over a list using its index and value. \n",
    "# It returns a tuple containing the index and value. \n",
    "\n",
    "mylist = [\"fred\", \"Bob\", \"Alice\"]\n",
    "\n",
    "for idx, val in enumerate(mylist):\n",
    "    print(str(idx) + \": \" + val)"
   ]
  },
  {
   "cell_type": "markdown",
   "metadata": {},
   "source": [
    "# Zip"
   ]
  },
  {
   "cell_type": "code",
   "execution_count": 73,
   "metadata": {},
   "outputs": [
    {
     "name": "stdout",
     "output_type": "stream",
     "text": [
      "[(1, 'a'), (2, 'b'), (3, 'c'), (4, 'd')]\n"
     ]
    }
   ],
   "source": [
    "# Zip combines two or more lists together element-wise, to return a \n",
    "# simple list consisting of the ith element from each list in a tuple. \n",
    "# If lists are different lengths, zip stops when the first list runs out. \n",
    "\n",
    "list1 = [1,2,3,4]\n",
    "list2 = [\"a\",\"b\",\"c\",\"d\"]\n",
    "\n",
    "list3 = list(zip(list1, list2))\n",
    "print(list3)"
   ]
  },
  {
   "cell_type": "code",
   "execution_count": 74,
   "metadata": {},
   "outputs": [
    {
     "name": "stdout",
     "output_type": "stream",
     "text": [
      "(' a', ' b', ' c') (1, 2, 3)\n"
     ]
    }
   ],
   "source": [
    "# You can also “unzip” a list using a strange trick: \n",
    "\n",
    "pairs = [(' a', 1), (' b', 2), (' c', 3)] \n",
    "\n",
    "letters, numbers = zip(* pairs) \n",
    "# The asterisk performs argument unpacking, which uses the\n",
    "# elements of pairs as individual arguments to zip. \n",
    "# It ends up the same as if you’d called: \n",
    "\n",
    "# zip((' a', 1), (' b', 2), (' c', 3)) \n",
    "# which returns [(' a',' b',' c'), (' 1',' 2',' 3')].\n",
    "\n",
    "print(letters, numbers)"
   ]
  },
  {
   "cell_type": "code",
   "execution_count": null,
   "metadata": {
    "collapsed": true
   },
   "outputs": [],
   "source": []
  }
 ],
 "metadata": {
  "kernelspec": {
   "display_name": "Python 3",
   "language": "python",
   "name": "python3"
  },
  "language_info": {
   "codemirror_mode": {
    "name": "ipython",
    "version": 3
   },
   "file_extension": ".py",
   "mimetype": "text/x-python",
   "name": "python",
   "nbconvert_exporter": "python",
   "pygments_lexer": "ipython3",
   "version": "3.6.2"
  }
 },
 "nbformat": 4,
 "nbformat_minor": 2
}
