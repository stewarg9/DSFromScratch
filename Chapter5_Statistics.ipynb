{
 "cells": [
  {
   "cell_type": "code",
   "execution_count": 13,
   "metadata": {
    "collapsed": true
   },
   "outputs": [],
   "source": [
    "import random\n",
    "import math\n",
    "\n",
    "import ipynb.fs.defs.Chapter4_LinearAlgebra as la\n"
   ]
  },
  {
   "cell_type": "code",
   "execution_count": 22,
   "metadata": {
    "collapsed": true
   },
   "outputs": [],
   "source": [
    "\n",
    "# Fudge for creating data to work along...\n",
    "num_friends = [random.randrange(0,100) for _ in range(204)]\n",
    "daily_minutes = [random.randrange(0,60) for _ in range(204)]"
   ]
  },
  {
   "cell_type": "code",
   "execution_count": 3,
   "metadata": {},
   "outputs": [
    {
     "data": {
      "image/png": "[encoded data removed]",
      "text/plain": [
       "<matplotlib.figure.Figure at 0x18f0c167a20>"
      ]
     },
     "metadata": {},
     "output_type": "display_data"
    }
   ],
   "source": [
    "from matplotlib import pyplot as plt\n",
    "\n",
    "from collections import Counter\n",
    "\n",
    "friend_counts = Counter(num_friends)\n",
    "xs = range(101)        # max value is 100\n",
    "ys = [friend_counts[x] for x in xs]   # number of friends as height\n",
    "plt.bar(xs, ys)\n",
    "plt.axis([0,101,0,26])\n",
    "plt.title(\"Histogram of number of friends\")\n",
    "plt.xlabel(\"# of friends\")\n",
    "plt.ylabel(\"# of members\")\n",
    "plt.show()"
   ]
  },
  {
   "cell_type": "code",
   "execution_count": 4,
   "metadata": {},
   "outputs": [
    {
     "name": "stdout",
     "output_type": "stream",
     "text": [
      "204\n",
      "99\n",
      "0\n",
      "0 1 99\n"
     ]
    }
   ],
   "source": [
    "num_points = len(num_friends)\n",
    "print(num_points)\n",
    "\n",
    "largest_value = max(num_friends)\n",
    "print(largest_value)\n",
    "\n",
    "smallest_value = min(num_friends)\n",
    "print(smallest_value)\n",
    "\n",
    "sorted_values = sorted(num_friends)\n",
    "smallest_value = sorted_values[0]\n",
    "second_smallest = sorted_values[1]\n",
    "second_largest = sorted_values[-2]\n",
    "\n",
    "print(smallest_value,second_smallest,second_largest)"
   ]
  },
  {
   "cell_type": "markdown",
   "metadata": {},
   "source": [
    "# Central Tendencies"
   ]
  },
  {
   "cell_type": "code",
   "execution_count": 5,
   "metadata": {},
   "outputs": [
    {
     "data": {
      "text/plain": [
       "47.872549019607845"
      ]
     },
     "execution_count": 5,
     "metadata": {},
     "output_type": "execute_result"
    }
   ],
   "source": [
    "def mean(x):\n",
    "    return sum(x) / len(x)\n",
    "\n",
    "mean(num_friends)"
   ]
  },
  {
   "cell_type": "code",
   "execution_count": 6,
   "metadata": {},
   "outputs": [
    {
     "data": {
      "text/plain": [
       "45.0"
      ]
     },
     "execution_count": 6,
     "metadata": {},
     "output_type": "execute_result"
    }
   ],
   "source": [
    "def median(x):\n",
    "    \"\"\" find the middle-most value of x\n",
    "    \"\"\"\n",
    "    n = len(x)\n",
    "    sorted_x = sorted(x)\n",
    "    midpoint = n // 2\n",
    "    \n",
    "    if n %2 ==1:\n",
    "        # odd- just return the middle value\n",
    "        return sorted_x[midpoint]\n",
    "    else:\n",
    "        # even- return the average of the middle two values\n",
    "        lo = midpoint-1\n",
    "        hi = midpoint\n",
    "        return (sorted_x[lo] + sorted_x[hi]) / 2\n",
    "    \n",
    "\n",
    "median(num_friends)"
   ]
  },
  {
   "cell_type": "markdown",
   "metadata": {},
   "source": [
    "Note that the mean is easier to compute than the median and it varies smoothly as the data changes. \n",
    "\n",
    "If we have n data points, and one of them increases by a small amount e, the mean will increase by e / n. This opens up the possibility of clever calculus tricks. \n",
    "\n",
    "For the median, the small change of e may increase the median by e, a number less than e, or not at all.\n",
    "\n",
    "However, the mean is very sensitibve to outliers, so can sometimes give a misleading picture. \n",
    "\n",
    "A generalisation of the median is the quantile, which represents the value less than which a certain percentile lies. "
   ]
  },
  {
   "cell_type": "code",
   "execution_count": 7,
   "metadata": {},
   "outputs": [
    {
     "data": {
      "text/plain": [
       "90"
      ]
     },
     "execution_count": 7,
     "metadata": {},
     "output_type": "execute_result"
    }
   ],
   "source": [
    "# Calculate a quantile.\n",
    "def quantile(x, p):\n",
    "    \"\"\" return the p-th percentile value in x\"\"\"\n",
    "    \n",
    "    p_index = int(p * len(x))\n",
    "    return sorted(x)[p_index]\n",
    "\n",
    "quantile(num_friends, 0.90)"
   ]
  },
  {
   "cell_type": "code",
   "execution_count": 8,
   "metadata": {},
   "outputs": [
    {
     "data": {
      "text/plain": [
       "[41]"
      ]
     },
     "execution_count": 8,
     "metadata": {},
     "output_type": "execute_result"
    }
   ],
   "source": [
    "# Mode- the most common value. \n",
    "def mode(x):\n",
    "    \"\"\" returns a list- may be more than one most common value\"\"\"\n",
    "    counts = Counter(x)\n",
    "    max_count = max(counts.values())\n",
    "    \n",
    "    return [x_i for x_i, count in counts.items() \n",
    "                if count == max_count]\n",
    "\n",
    "mode(num_friends)\n",
    "    "
   ]
  },
  {
   "cell_type": "code",
   "execution_count": 10,
   "metadata": {},
   "outputs": [
    {
     "data": {
      "text/plain": [
       "99"
      ]
     },
     "execution_count": 10,
     "metadata": {},
     "output_type": "execute_result"
    }
   ],
   "source": [
    "# difference between laregst and smallest - range. \n",
    "\n",
    "def data_range(x):\n",
    "    return max(x) - min(x)\n",
    "\n",
    "\n",
    "data_range(num_friends)"
   ]
  },
  {
   "cell_type": "markdown",
   "metadata": {},
   "source": [
    "Note that the range is 0 when max and min are the same, meaning that all the points in the dataset are the same. "
   ]
  },
  {
   "cell_type": "code",
   "execution_count": 15,
   "metadata": {},
   "outputs": [
    {
     "data": {
      "text/plain": [
       "807.8063363276345"
      ]
     },
     "execution_count": 15,
     "metadata": {},
     "output_type": "execute_result"
    }
   ],
   "source": [
    "def de_mean(x):\n",
    "    \"\"\" translate x by subtracting its mean (so the result has a mean of 0)\"\"\"\n",
    "    x_bar = mean(x)\n",
    "    return [x_i - x_bar for x_i in x]\n",
    "\n",
    "def variance(x):\n",
    "    \"\"\" assumes x has at least two elements... \n",
    "        Note that this returns variance as number of unit, squared. \n",
    "    \"\"\"\n",
    "    n = len(x)\n",
    "    deviations = de_mean(x)\n",
    "    return la.sum_of_squares(deviations) / (n - 1)\n",
    "\n",
    "variance(num_friends)"
   ]
  },
  {
   "cell_type": "code",
   "execution_count": 18,
   "metadata": {},
   "outputs": [
    {
     "data": {
      "text/plain": [
       "28.421934070848074"
      ]
     },
     "execution_count": 18,
     "metadata": {},
     "output_type": "execute_result"
    }
   ],
   "source": [
    "def standard_deviation(x):\n",
    "    return math.sqrt(variance(x))\n",
    "\n",
    "standard_deviation(num_friends)"
   ]
  },
  {
   "cell_type": "code",
   "execution_count": 20,
   "metadata": {},
   "outputs": [
    {
     "data": {
      "text/plain": [
       "46"
      ]
     },
     "execution_count": 20,
     "metadata": {},
     "output_type": "execute_result"
    }
   ],
   "source": [
    "def interquartile_range(x):\n",
    "    return quantile(x, 0.75) - quantile(x, 0.25)\n",
    "\n",
    "interquartile_range(num_friends)"
   ]
  },
  {
   "cell_type": "markdown",
   "metadata": {},
   "source": [
    "# Correlation"
   ]
  },
  {
   "cell_type": "markdown",
   "metadata": {},
   "source": [
    "Variance measures how a single variable deviates from the mean. \n",
    "Covariance measures how two variables vary in tandem from their means. \n",
    "\n",
    "The dot sums up the product of corresponding paris of elements. When X and Y are above their means toegther or below their means together, we get a positive value. When one or the other but not both are above their mean, we get a negative value. \n",
    "\n",
    "So, a positive covariance means one is large when the other is large. A negative covariance means ex is small when y is large and vice versa. A covariance close to 0 means no relationship exists. \n",
    "\n",
    "The units are the product of the units of the inputs. In the example below it's friends minutes per day. What does that equate to in real life? \n",
    "If every user had twice as many friends but the same number of online mnutes, the covariance would be twice as large. But, the variables would be just as interrelated- not twice as interrelated. So- it's difficult to say what counts as a large covariance. \n",
    "\n"
   ]
  },
  {
   "cell_type": "code",
   "execution_count": 23,
   "metadata": {},
   "outputs": [
    {
     "data": {
      "text/plain": [
       "-41.215493093789256"
      ]
     },
     "execution_count": 23,
     "metadata": {},
     "output_type": "execute_result"
    }
   ],
   "source": [
    "def covariance(x,y):\n",
    "    n = len(x)\n",
    "    return la.dot(de_mean(x), de_mean(y)) / (n -1)\n",
    "\n",
    "covariance(num_friends, daily_minutes)"
   ]
  },
  {
   "cell_type": "markdown",
   "metadata": {},
   "source": [
    "Easier to use correlation. \n",
    "\n",
    "Correlation values lie between -1 (perfect negaive correlation) and 1 (perfect correlation). A value close to zero means there is no correlation. \n",
    "\n",
    "Note that a correlation of 0 doesn't mean there is not a relationship between the two variables. Consider: \n",
    "\n",
    "x = [-2, -1, 0, 1, 2]\n",
    "\n",
    "y = [ 2, 1, 0, 1, 2]\n",
    "\n",
    "In this case, abs(x_i) == abs(y_i). \n",
    "\n",
    "Correlation also tells you nothing about the size of the relationship. The variables: \n",
    "\n",
    "x = [-2, -1, 0, 1, 2]\n",
    "\n",
    "y = [99.98, 99.99, 100, 100.01, 100.02] \n",
    "\n",
    "are perfectly correlated, but (depending on what you’re measuring) it’s quite possible that this relationship isn’t all that interesting.\n"
   ]
  },
  {
   "cell_type": "code",
   "execution_count": 24,
   "metadata": {},
   "outputs": [
    {
     "data": {
      "text/plain": [
       "-0.08341279434636317"
      ]
     },
     "execution_count": 24,
     "metadata": {},
     "output_type": "execute_result"
    }
   ],
   "source": [
    "def correlation(x,y):\n",
    "    stddev_x = standard_deviation(x)\n",
    "    stddev_y = standard_deviation(y)\n",
    "    \n",
    "    if stddev_x > 0 and stddev_y > 0: \n",
    "        return covariance(x,y) / stddev_x / stddev_y\n",
    "    else:\n",
    "        return 0         # if there's no variation, correlation is 0. \n",
    "    \n",
    "correlation(num_friends, daily_minutes)"
   ]
  },
  {
   "cell_type": "code",
   "execution_count": 25,
   "metadata": {},
   "outputs": [
    {
     "data": {
      "image/png": "[encoded data removed]",
      "text/plain": [
       "<matplotlib.figure.Figure at 0x18f0d4f9b00>"
      ]
     },
     "metadata": {},
     "output_type": "display_data"
    }
   ],
   "source": [
    "plt.scatter(num_friends, daily_minutes)\n",
    "plt.title(\"Num_friends and Daily Minutes\")\n",
    "plt.xlabel(\"# of friends\")\n",
    "plt.ylabel(\"# of minutes online\")\n",
    "plt.show()"
   ]
  },
  {
   "cell_type": "markdown",
   "metadata": {},
   "source": [
    "# Simpson's Paradox\n",
    "\n",
    "Correlation measures the relationship between two datasets where ALL ELSE IS EQUAL. For some scenarios, all else being equal is a valid assumption to make. However, sometimes, deeper patterns to relationships between data mean that this assumption no longer holds- and it can be difficult to investigate. \n",
    "\n"
   ]
  },
  {
   "cell_type": "markdown",
   "metadata": {
    "collapsed": true
   },
   "source": [
    "Also noting that correlation and causation are not the same thing. "
   ]
  },
  {
   "cell_type": "code",
   "execution_count": null,
   "metadata": {
    "collapsed": true
   },
   "outputs": [],
   "source": []
  }
 ],
 "metadata": {
  "kernelspec": {
   "display_name": "Python 3",
   "language": "python",
   "name": "python3"
  },
  "language_info": {
   "codemirror_mode": {
    "name": "ipython",
    "version": 3
   },
   "file_extension": ".py",
   "mimetype": "text/x-python",
   "name": "python",
   "nbconvert_exporter": "python",
   "pygments_lexer": "ipython3",
   "version": "3.6.2"
  }
 },
 "nbformat": 4,
 "nbformat_minor": 2
}
