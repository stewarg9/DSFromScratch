{
 "cells": [
  {
   "cell_type": "markdown",
   "metadata": {},
   "source": [
    "# Vectors"
   ]
  },
  {
   "cell_type": "code",
   "execution_count": null,
   "metadata": {
    "collapsed": true
   },
   "outputs": [],
   "source": [
    "# Could store vectors as a list... \n",
    "\n",
    "height_weight_age = [70,  # inches\n",
    "                     170, # pounds\n",
    "                     40   # years\n",
    "                    ]\n",
    "\n",
    "grades=[95, # exam 1\n",
    "        80, # exam 2\n",
    "        75, # exam 3\n",
    "        62  # exam 4\n",
    "       ]"
   ]
  },
  {
   "cell_type": "code",
   "execution_count": null,
   "metadata": {
    "collapsed": true
   },
   "outputs": [],
   "source": [
    "# But lists don't have functions that transform them. \n",
    "# Need to write from scratch... \n",
    "\n"
   ]
  },
  {
   "cell_type": "markdown",
   "metadata": {},
   "source": [
    "Vectors add component-wise. This means that if two vectors are the same length, their sum is just the vector whose first element is v[0] + w[0], second element is [v[1] + w[1] and so on. \n",
    "\n",
    "If they're not the same length, they can't be added. \n",
    "\n",
    "e.g. [1,2] + [2,1] = [3,3]"
   ]
  },
  {
   "cell_type": "code",
   "execution_count": 8,
   "metadata": {},
   "outputs": [
    {
     "data": {
      "text/plain": [
       "[3, 3]"
      ]
     },
     "execution_count": 8,
     "metadata": {},
     "output_type": "execute_result"
    }
   ],
   "source": [
    "# Function to add vectors using list comprehension and zip: \n",
    "\n",
    "def vector_add(v,w):\n",
    "    \"\"\" adds corresponding elements from v and w\"\"\"\n",
    "    return [v_i + w_i for v_i, w_i in zip(v,w)]\n",
    "\n",
    "add([1,2],[2,1])"
   ]
  },
  {
   "cell_type": "code",
   "execution_count": 9,
   "metadata": {},
   "outputs": [
    {
     "data": {
      "text/plain": [
       "[2, 1]"
      ]
     },
     "execution_count": 9,
     "metadata": {},
     "output_type": "execute_result"
    }
   ],
   "source": [
    "# Similar for subtraction; subtract corresponding elements:\n",
    "\n",
    "def vector_subtract(v,w):\n",
    "    \"\"\" subtract corresponding elements from v and w\"\"\"\n",
    "    return [v_i-w_i for v_i, w_i in zip(v,w)]\n",
    "\n",
    "subtract([3,3],[1,2])"
   ]
  },
  {
   "cell_type": "code",
   "execution_count": 10,
   "metadata": {},
   "outputs": [
    {
     "data": {
      "text/plain": [
       "[6, 6]"
      ]
     },
     "execution_count": 10,
     "metadata": {},
     "output_type": "execute_result"
    }
   ],
   "source": [
    "# Can use the same principle to produce a component-wise sum of many vectors:\n",
    "\n",
    "def vector_sum(vectors):\n",
    "    \"\"\" sums all corresponding elements in many vectors\"\"\"\n",
    "    result=vectors[0]                        # start with the first vector\n",
    "    for vector in vectors[1:]:               # then loop over the others\n",
    "        result = vector_add(result, vector)  # and add them to the result\n",
    "    return result\n",
    "\n",
    "# Can do this using reduce, too\n",
    "# def vector_sum(vectors):\n",
    "#     return reduce(vector_add, vectors)\n",
    "\n",
    "vector_sum([[1,2],[2,1],[3,3]])\n"
   ]
  },
  {
   "cell_type": "code",
   "execution_count": 11,
   "metadata": {},
   "outputs": [
    {
     "data": {
      "text/plain": [
       "[7, 14]"
      ]
     },
     "execution_count": 11,
     "metadata": {},
     "output_type": "execute_result"
    }
   ],
   "source": [
    "# Multiply by a scalar: \n",
    "def scalar_multiply(c, v):\n",
    "    \"\"\" c is a number, v is a vector\"\"\"\n",
    "    return [c * v_i for v_i in v]\n",
    "\n",
    "scalar_multiply(7,[1,2])"
   ]
  },
  {
   "cell_type": "code",
   "execution_count": 13,
   "metadata": {},
   "outputs": [
    {
     "data": {
      "text/plain": [
       "[5.0, 4.0]"
      ]
     },
     "execution_count": 13,
     "metadata": {},
     "output_type": "execute_result"
    }
   ],
   "source": [
    "# So, we can now calculate the means for a list of same-sized vectors:\n",
    "def vector_mean(vectors):\n",
    "    \"\"\" compute the vector whose ith element is the mean \n",
    "        of the ith element of the input vectors \"\"\"\n",
    "    n = len(vectors)\n",
    "    return scalar_multiply(1/n, vector_sum(vectors))\n",
    "\n",
    "vector_mean([[7,2],[3,6]])"
   ]
  },
  {
   "cell_type": "code",
   "execution_count": 14,
   "metadata": {},
   "outputs": [
    {
     "data": {
      "text/plain": [
       "19"
      ]
     },
     "execution_count": 14,
     "metadata": {},
     "output_type": "execute_result"
    }
   ],
   "source": [
    "# Dot-product is the sum of their component -wise element products: \n",
    "def dot(v,w):\n",
    "    \"\"\"v_1 + w_1 + ... v_n + w_n \"\"\"\n",
    "    return sum(v_i * w_i\n",
    "                for v_i, w_i in zip(v,w))\n",
    "\n",
    "dot([2,1],[7,5])\n"
   ]
  },
  {
   "cell_type": "markdown",
   "metadata": {},
   "source": [
    "when w has magnitude 1, the dot product measures how far the vector v extends in the w direction. "
   ]
  },
  {
   "cell_type": "code",
   "execution_count": 15,
   "metadata": {},
   "outputs": [
    {
     "data": {
      "text/plain": [
       "30"
      ]
     },
     "execution_count": 15,
     "metadata": {},
     "output_type": "execute_result"
    }
   ],
   "source": [
    "# sum of squares for vectors... \n",
    "# returns a scalar that is the sum of the components in V squared \n",
    "\n",
    "def sum_of_squares(v):\n",
    "    return dot(v,v)\n",
    "\n",
    "sum_of_squares([1,2,3,4])   # [1*1 + 2*2 + 3*3 + 4*4] == [1+4+9+16] == 30"
   ]
  },
  {
   "cell_type": "code",
   "execution_count": 16,
   "metadata": {},
   "outputs": [
    {
     "data": {
      "text/plain": [
       "5.477225575051661"
      ]
     },
     "execution_count": 16,
     "metadata": {},
     "output_type": "execute_result"
    }
   ],
   "source": [
    "# can use the sum of squares to compute a magnitude (or length) for the vector):\n",
    "import math\n",
    "\n",
    "def magnitude(v):\n",
    "    return math.sqrt(sum_of_squares(v))\n",
    "\n",
    "magnitude([1,2,3,4])"
   ]
  },
  {
   "cell_type": "code",
   "execution_count": 18,
   "metadata": {},
   "outputs": [
    {
     "data": {
      "text/plain": [
       "3.1622776601683795"
      ]
     },
     "execution_count": 18,
     "metadata": {},
     "output_type": "execute_result"
    }
   ],
   "source": [
    "# Can now compute the distance between two vectors, which is \n",
    "# sqrt((v_1 - w_1)^2 + (v_n - w_n)^2)\n",
    "\n",
    "def squared_distance(v,w):\n",
    "    \"\"\"(v_1 - w_1 ) ^ 2 + ... + (v_n - w_n) ^ 2\"\"\"\n",
    "    return sum_of_squares(vector_subtract(v,w))\n",
    "\n",
    "def distance(v,w):\n",
    "    return math.sqrt(squared_distance(v,w))\n",
    "\n",
    "# which could be clearer as \n",
    "# return magnitude(vector_subtract(v,w))\n",
    "\n",
    "distance([7,2],[6,5])   #(7-6)^2 + (2-5)^2 == 1*1 + 3*3 == 10\n",
    "                        # === sqrt(10)"
   ]
  },
  {
   "cell_type": "code",
   "execution_count": 19,
   "metadata": {},
   "outputs": [
    {
     "data": {
      "text/plain": [
       "3.1622776601683795"
      ]
     },
     "execution_count": 19,
     "metadata": {},
     "output_type": "execute_result"
    }
   ],
   "source": [
    "math.sqrt(10)"
   ]
  },
  {
   "cell_type": "markdown",
   "metadata": {},
   "source": [
    "# Matrices\n",
    "\n",
    "A matrix is a two-dimensional collection of numbers. If A is a matrix, then A[i][j] is the element in the ith row and the jth column. Typically, matrices will be represented by capital letters. "
   ]
  },
  {
   "cell_type": "code",
   "execution_count": 22,
   "metadata": {
    "collapsed": true
   },
   "outputs": [],
   "source": [
    "A = [[1,2,4],        # A has 2 rows and 3 columns\n",
    "     [4,5,6]]\n",
    "\n",
    "B = [[1,2],          # B has 3 rows and 2 columns\n",
    "     [3,4],\n",
    "     [5,6]]"
   ]
  },
  {
   "cell_type": "code",
   "execution_count": 24,
   "metadata": {},
   "outputs": [
    {
     "data": {
      "text/plain": [
       "(3, 2)"
      ]
     },
     "execution_count": 24,
     "metadata": {},
     "output_type": "execute_result"
    }
   ],
   "source": [
    "# Given the list-of-lists structure, the matrix A has \n",
    "#        len(A) rows and \n",
    "#        len(A[0] columns, which we define as it's shape. \n",
    "\n",
    "\n",
    "def shape(A):\n",
    "    num_rows = len(A)\n",
    "    num_cols = len(A[0]) if A else 0  # elements in first row\n",
    "    return num_rows, num_cols\n",
    "\n",
    "shape(B)"
   ]
  },
  {
   "cell_type": "markdown",
   "metadata": {},
   "source": [
    "If a matrix has n rows and k columns, we refer to it as an nxk matrix. \n",
    "We can think of each row of a nxk matrix as a vector of length k, and each column as a vector of length k."
   ]
  },
  {
   "cell_type": "code",
   "execution_count": 28,
   "metadata": {},
   "outputs": [
    {
     "data": {
      "text/plain": [
       "[2, 5]"
      ]
     },
     "execution_count": 28,
     "metadata": {},
     "output_type": "execute_result"
    }
   ],
   "source": [
    "def get_row(A,i):\n",
    "    return A[i]             # A[i] is already the ith row... \n",
    "\n",
    "def get_column(A,j):\n",
    "    return [A_i[j]          # jth element from the A_i th row\n",
    "           for A_i in A]    # for each A_i row\n",
    "\n",
    "get_row(B,0)\n",
    "\n",
    "get_column(A,1)"
   ]
  },
  {
   "cell_type": "code",
   "execution_count": 32,
   "metadata": {},
   "outputs": [
    {
     "data": {
      "text/plain": [
       "[[0, 1, 2], [1, 2, 3], [2, 3, 4]]"
      ]
     },
     "execution_count": 32,
     "metadata": {},
     "output_type": "execute_result"
    }
   ],
   "source": [
    "# create a matrix given dimensions and a function to set values.. \n",
    "def make_matrix(num_rows, num_cols, entry_fn):\n",
    "    \"\"\" return a matrix num_rows by num_cols, \n",
    "        using the entry_fn to set the value at i,j\n",
    "    \"\"\"\n",
    "    return [[entry_fn(i,j)\n",
    "            for i in range(num_cols)]\n",
    "            for j in range(num_rows)]\n",
    "\n",
    "\n",
    "make_matrix(3,3,lambda x,y: x+y)"
   ]
  },
  {
   "cell_type": "code",
   "execution_count": 33,
   "metadata": {},
   "outputs": [
    {
     "data": {
      "text/plain": [
       "[[1, 0, 0, 0, 0],\n",
       " [0, 1, 0, 0, 0],\n",
       " [0, 0, 1, 0, 0],\n",
       " [0, 0, 0, 1, 0],\n",
       " [0, 0, 0, 0, 1]]"
      ]
     },
     "execution_count": 33,
     "metadata": {},
     "output_type": "execute_result"
    }
   ],
   "source": [
    "make_matrix(5,5, lambda x,y: 1 if x ==y else 0)"
   ]
  },
  {
   "cell_type": "code",
   "execution_count": 34,
   "metadata": {},
   "outputs": [
    {
     "data": {
      "text/plain": [
       "[[1, 0, 0, 0, 0],\n",
       " [0, 1, 0, 0, 0],\n",
       " [0, 0, 1, 0, 0],\n",
       " [0, 0, 0, 1, 0],\n",
       " [0, 0, 0, 0, 1]]"
      ]
     },
     "execution_count": 34,
     "metadata": {},
     "output_type": "execute_result"
    }
   ],
   "source": [
    "# Make an identity matrix- 1s on the diagonal; 0 everywhere else. \n",
    "def diagonal(i,j):\n",
    "    \"\"\" 1s on the diagonal; 0s everywhere else\"\"\"\n",
    "    \n",
    "    return 1 if i == j else 0\n",
    "\n",
    "make_matrix(5,5,diagonal)"
   ]
  },
  {
   "cell_type": "markdown",
   "metadata": {},
   "source": [
    "Key points: \n",
    "    1. Can use a matrix to represent a dataset of multiple vectors by considering each vector as a row of the matrix. \n",
    "    2. Can use a nxk matrix to represent a linear function that maps k-dimensional vectors to n-dimensional vectors. \n",
    "    3. Matrices can be used to represent binary relationships, such as friendships between members of the DS group. "
   ]
  },
  {
   "cell_type": "code",
   "execution_count": null,
   "metadata": {
    "collapsed": true
   },
   "outputs": [],
   "source": []
  }
 ],
 "metadata": {
  "kernelspec": {
   "display_name": "Python 3",
   "language": "python",
   "name": "python3"
  },
  "language_info": {
   "codemirror_mode": {
    "name": "ipython",
    "version": 3
   },
   "file_extension": ".py",
   "mimetype": "text/x-python",
   "name": "python",
   "nbconvert_exporter": "python",
   "pygments_lexer": "ipython3",
   "version": "3.6.2"
  }
 },
 "nbformat": 4,
 "nbformat_minor": 2
}
