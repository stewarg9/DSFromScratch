{
 "cells": [
  {
   "cell_type": "markdown",
   "metadata": {},
   "source": [
    "Data Science is the process of turning business problems into data problems, collectinc understanding, cleansing and formatting, then building models. \n",
    "\n",
    "# Modelling\n",
    "A model is a specification of a mathematical or probabalistic relationship that exists between different variables. \n",
    "\n",
    "## What is Machine Learning?\n",
    "ML refers to creating and using models that are taught from data. In some scenarios, this is also referred to as predictive modelling, or data mining. Typically, the goal will be to use existing data to develop models that we can use to predict various outcomes for new data, such as: \n",
    "- Whether an email is spam or not. \n",
    "- Whether a cridit card transaction is fraud or not. \n",
    "- Which football team will win the superbowl. \n",
    "\n",
    "Supervised model- there is a set of labelled data with the correct answers to be learned from. \n",
    "Unsupervised model- no such data labels.\n",
    "\n",
    "Semi-supervised- only some of the data are labelled. \n",
    "Online- model continually adjusts to newly arriving data. \n",
    "These last two are out of scope. \n"
   ]
  }
 ],
 "metadata": {
  "kernelspec": {
   "display_name": "Python 3",
   "language": "python",
   "name": "python3"
  },
  "language_info": {
   "codemirror_mode": {
    "name": "ipython",
    "version": 3
   },
   "file_extension": ".py",
   "mimetype": "text/x-python",
   "name": "python",
   "nbconvert_exporter": "python",
   "pygments_lexer": "ipython3",
   "version": "3.6.2"
  }
 },
 "nbformat": 4,
 "nbformat_minor": 2
}
