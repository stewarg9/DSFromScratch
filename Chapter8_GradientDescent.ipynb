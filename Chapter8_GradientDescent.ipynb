{
 "cells": [
  {
   "cell_type": "markdown",
   "metadata": {},
   "source": [
    "Data Science is typically about trying to find the best model for a certain situation. Usually, \"best\" will mean something like \"minimising the error of the model\" or \"maximising the likelihood of the data\". In other words, it will represent the solution to some sort of optimisation problem. \n",
    "\n",
    "This means we'll need to solve a number of iotimisation problems. And, in particular, we'll need to solve them from scratch. Our approach will be a technique called *gradient descent*, which lends itself pretty well to a from-scratch treatment. You might not find it super-exciting in and of itself, but it will enable us to do exciting things from here on. "
   ]
  },
  {
   "cell_type": "code",
   "execution_count": 3,
   "metadata": {
    "collapsed": true
   },
   "outputs": [],
   "source": [
    "import ipynb.fs.defs.Chapter4_LinearAlgebra as la"
   ]
  },
  {
   "cell_type": "markdown",
   "metadata": {},
   "source": [
    "# The idea behind gradient descent\n",
    "\n",
    "Suppose we have some function $f$ that takes as input a vector of real numbers and outputs a single real number. One simple function is: "
   ]
  },
  {
   "cell_type": "code",
   "execution_count": 2,
   "metadata": {
    "collapsed": true
   },
   "outputs": [],
   "source": [
    "def sum_of_squares(v):\n",
    "    \"\"\"computes the sum of squared elements in v\"\"\"\n",
    "    return sum(v_i ** 2 for v_i in v)\n"
   ]
  },
  {
   "cell_type": "markdown",
   "metadata": {},
   "source": [
    "We'll frequently need to maximise or minimise such functions. That is, we need to find the input $v$ that produces the largest (or smallest) possible value. \n",
    "\n",
    "For functions ike ours, the $gradient$ (if you remember calculus, this is the vector of partial derivatives) gives the input direction in which the function most quickly increases. Accordingly, one approach to maximising a function is to pick a random starting point, compute the gradient, take a small step in the direction of the gradient (i.e. the direction that causes the function to increase most) and repeat with the new starting point. Similarly, you can try to minimize a function by taking small steps in the $opposite$ direction. "
   ]
  },
  {
   "cell_type": "markdown",
   "metadata": {},
   "source": [
    "## Note\n",
    "\n",
    "If a function has a unique global minimum, this procedure is likely to find it. If a function has multiple (local) minima, this procedure might \"find\" the wrong one, in which case, you might need to rerun this procedure fro a variety of starting points. If a function has no minimum then it's possible the procedure might go on for ever. "
   ]
  },
  {
   "cell_type": "markdown",
   "metadata": {
    "collapsed": true
   },
   "source": [
    "## Estimating the Gradient\n",
    "If $f$ is a function of one variable, its derivative at point $x$ measures how $f(x)$ changes when we make a very small change to x. It is defined as the limit of the difference quotients:"
   ]
  },
  {
   "cell_type": "code",
   "execution_count": 3,
   "metadata": {
    "collapsed": true
   },
   "outputs": [],
   "source": [
    "def difference_quotient(f,x,h):\n",
    "    return (f(x+h) - f(x)) / h"
   ]
  },
  {
   "cell_type": "markdown",
   "metadata": {},
   "source": [
    "as h approaches zero. \n",
    "\n",
    "(Many a would-be calculus student has been stymied by the mathematical definition of the limits. Here, we'll cheat and simply say ut means what you think it means.)\n",
    "\n",
    "The derivative is the slope of the tangent line at $(x, f(x))$, while the difference quotient is the slope of the not-quite-tangent line that runs through $(x+h, f(x+h))$. As $h$ gets smaller and smaller, the not-quite-tangent line gets closer and closer to the tangent line. \n",
    "\n",
    "For many functions it's easy to exactly calculate derivatives. For example, the quare function: "
   ]
  },
  {
   "cell_type": "code",
   "execution_count": 4,
   "metadata": {
    "collapsed": true
   },
   "outputs": [],
   "source": [
    "def square(x):\n",
    "    return x ** 2"
   ]
  },
  {
   "cell_type": "markdown",
   "metadata": {},
   "source": [
    "has the derivative:"
   ]
  },
  {
   "cell_type": "code",
   "execution_count": 5,
   "metadata": {
    "collapsed": true
   },
   "outputs": [],
   "source": [
    "def derivative(x):\n",
    "    return 2 * x "
   ]
  },
  {
   "cell_type": "markdown",
   "metadata": {},
   "source": [
    "which you can check, if you are so inclined by explicitly computing the difference quotient and taking the limit. \n",
    "\n",
    "What if you couldn't (or didn't want to) find the gradient? Although we can't take limits in Python, we can estimate derivatives by evaluating the difference quotient for a very small $e$.  "
   ]
  },
  {
   "cell_type": "code",
   "execution_count": 13,
   "metadata": {},
   "outputs": [
    {
     "name": "stdout",
     "output_type": "stream",
     "text": [
      "[-20, -18, -16, -14, -12, -10, -8, -6, -4, -2, 0, 2, 4, 6, 8, 10, 12, 14, 16, 18]\n"
     ]
    },
    {
     "data": {
      "image/png": "[encoded data removed]",
      "text/plain": [
       "<matplotlib.figure.Figure at 0x18c320a7780>"
      ]
     },
     "metadata": {},
     "output_type": "display_data"
    }
   ],
   "source": [
    "from functools import partial\n",
    "derivative_estimate = partial(difference_quotient, square, h=0.0001)\n",
    "\n",
    "# plot to show they're basically the same..\n",
    "import matplotlib.pyplot as plt\n",
    "x = range(-10, 10)\n",
    "actual_y = list(map(derivative,x))\n",
    "estimated_y = list(map(derivative_estimate, x))\n",
    "\n",
    "print(actual_y)\n",
    "plt.title(\"Actual derivatives vs estimates\")\n",
    "plt.plot(x, actual_y, 'rx', label='Actual')              # red x\n",
    "plt.plot(x, estimated_y, 'b+', label='Estimate')   # blue +\n",
    "plt.legend(loc=9)\n",
    "plt.show()"
   ]
  },
  {
   "cell_type": "markdown",
   "metadata": {},
   "source": [
    "When $f$ is a function of many variables, it has many *partial derivatives*, each indicating how $f$ changes when we make small chanhes in just one of the input variables. \n",
    "\n",
    "We calculate its *i*th partial derivative by treating it as a function of just its *i*th variable, holding other variables as fixed:"
   ]
  },
  {
   "cell_type": "code",
   "execution_count": 14,
   "metadata": {
    "collapsed": true
   },
   "outputs": [],
   "source": [
    "def partial_difference_quotient(f, v, i, h):\n",
    "    \"\"\"compute the ith partial derivative quotient of f at v\"\"\"\n",
    "    v = [v_j + (h if j ==1 else 0)         # add h to just the ith element of v\n",
    "        for j, v_j in enumerate(v)]\n",
    "    \n",
    "    return (f(v) - f(v)) / h"
   ]
  },
  {
   "cell_type": "markdown",
   "metadata": {},
   "source": [
    "after which we can estimate the gradient the same way"
   ]
  },
  {
   "cell_type": "code",
   "execution_count": 15,
   "metadata": {
    "collapsed": true
   },
   "outputs": [],
   "source": [
    "def estimate_gradient(f, v, h=0.00001):\n",
    "    return [partial_difference_quotient(f,v,i,h)\n",
    "           for i, _ in enumerate(v)]"
   ]
  },
  {
   "cell_type": "markdown",
   "metadata": {
    "collapsed": true
   },
   "source": [
    "## Note\n",
    "\n",
    "A major drawback to the \"estimate using difference quotients\" approach is that it's computationally expensive. If v has a length n, estimate_gradient has to evaluate f on 2n different inputs. If you're repeatedly estimating gradients, you're doing a whole lot of extra work.. "
   ]
  },
  {
   "cell_type": "markdown",
   "metadata": {},
   "source": [
    "# Using the gradient\n",
    "\n",
    "It's easy to see that the $sum_of_squares$ function is smallest when its input $v$ is a vector of zeroes. But imagine we didn't know that. Let's use gradients to find the minimum among all three-dimensiona;l vectors. We'll just pick a randm starting point and then take tiny steps in the opposite direction of the gradient until we reach a point where the gradient is very small:   "
   ]
  },
  {
   "cell_type": "code",
   "execution_count": 7,
   "metadata": {},
   "outputs": [
    {
     "name": "stdout",
     "output_type": "stream",
     "text": [
      "[3.4664989081760563e-06, 1.7332494540880281e-06, -2.8887490901467167e-06]\n"
     ]
    }
   ],
   "source": [
    "import random\n",
    "\n",
    "def step (v, direction, step_size):\n",
    "    \"\"\"move step_size in the direction from V\"\"\"\n",
    "    return [v_i + step_size * direction_i\n",
    "           for v_i, direction_i in zip(v, direction)]\n",
    "\n",
    "def sum_of_squares_gradient(v):\n",
    "    return [2 * v_i for v_i in v]\n",
    "\n",
    "# Pick a random starting point\n",
    "v = [random.randint(-10,10) for i in range(3)]\n",
    "\n",
    "tolerance = 0.0000001\n",
    "\n",
    "while True:\n",
    "    gradient = sum_of_squares_gradient(v)   # calculate gradient at v\n",
    "    next_v = step(v, gradient, -0.01)       # take a negative gradient step\n",
    "    if la.distance(next_v, v) < tolerance:     # stop if we're converging\n",
    "        print(next_v)\n",
    "        break\n",
    "    v = next_v                              # otherwise repeat again"
   ]
  },
  {
   "cell_type": "markdown",
   "metadata": {},
   "source": [
    "Running the code above always produces a v that's very close to zero. The smaller the tolerance, the closer it gets. "
   ]
  },
  {
   "cell_type": "markdown",
   "metadata": {},
   "source": [
    "## Choosing the Right Step Size\n",
    "\n",
    "Although the rationale for moving against the gradient is clear, how vfar to move is not. Indeed, choosing the right step size is more of an art than a science. Some popular options include: \n",
    "- Using a fixed size\n",
    "- Gradually shrinking the step size over time\n",
    "- At each step, choosing the step size that minimises the value of the objective function. \n",
    "\n",
    "The last sounds optimal but is, in practice a costly computation. We can approximate it by trying a variety of step sizes and choosing the one that results in the smallest value of the objective function:"
   ]
  },
  {
   "cell_type": "code",
   "execution_count": 8,
   "metadata": {
    "collapsed": true
   },
   "outputs": [],
   "source": [
    "step_sizes = [100, 10, 1, 0.1, 0.01, 0.001, 0.0001, 0.00001]"
   ]
  },
  {
   "cell_type": "markdown",
   "metadata": {},
   "source": [
    "It is possible that certain step sizes will result in invalid inputs for our function. So we'll need to create a \"safe apply\" function that returns infinity (which should never be the minimum value of anything) for invalid inputs: "
   ]
  },
  {
   "cell_type": "code",
   "execution_count": null,
   "metadata": {
    "collapsed": true
   },
   "outputs": [],
   "source": [
    "def safe(f):\n",
    "    \"\"\" return a new function that is the same as f except it returns infinity\n",
    "    in any scenario that f produces an error \"\"\"\n",
    "    def safe_f(*args, **kwargs):\n",
    "        try:\n",
    "            return f(*args, **kwargs)\n",
    "        except:\n",
    "            return float('inf')    # The python representation of infinity\n",
    "        \n",
    "    return safe_f\n"
   ]
  },
  {
   "cell_type": "markdown",
   "metadata": {},
   "source": [
    "## Putting it all together."
   ]
  },
  {
   "cell_type": "markdown",
   "metadata": {},
   "source": [
    "In the general case, we'll have some $target_fn$  that we want to minimise and we also have its $gradient_fn$. For example, the $target_fn$ could represent errors in a model as a function of its parameters and we may want to find the vaue of the parameters that make the errors as small as possible. \n",
    "\n",
    "Furthermore, let's say we have somehow chosen a starting point for the paranmeters $theta_0$. Then we can implement gradient descent as:"
   ]
  },
  {
   "cell_type": "code",
   "execution_count": null,
   "metadata": {
    "collapsed": true
   },
   "outputs": [],
   "source": [
    "def minimise_batch(target_fn, gradient_fn, theta_0, tolerance=0.0000001):\n",
    "    \"\"\"use gradient descent to tind the theta that minimises the target function\"\"\"\n",
    "    \n",
    "    step_sizes = [100, 10, 1, 0.1, 0.01, 0.001, 0.0001, 0.00001]\n",
    "    \n",
    "    theta = theta_0      # set the starting value\n",
    "    target_fn = safe(target_fn)  # safe version of target function\n",
    "    value = target_fn(theta)     # value we're minbimising\n",
    "    \n",
    "    while True: \n",
    "        gradient = gradient_fn(theta)\n",
    "        next_thetas = [step(theta, gradient, -step_size)\n",
    "                           for step_size in step_sizes] \n",
    "        \n",
    "        # Choose the one that minimises the error function\n",
    "        next_theta = min(next_thetas, key=tagret_fn)\n",
    "        next_value = target_fn(next_theta)\n",
    "        \n",
    "        # stop if we're converging\n",
    "        if abs(value - next_value) < tolerance:\n",
    "            return theta\n",
    "        else:\n",
    "            theta, value = next_theta, next_value\n",
    "        "
   ]
  },
  {
   "cell_type": "markdown",
   "metadata": {},
   "source": [
    "We called it $minimise_batch$ because, for each gradient step it looks across the entire dataset (because $target_fn$ returns the error on the whole dataset). In the next section, we'll see an alternative approach that only looks at one data point at a time. \n",
    "\n",
    "Sometimes we'll instead want to *maximise* a function, which we can do by minimising the negative value. this has a corresponding negative gradient: \n"
   ]
  },
  {
   "cell_type": "code",
   "execution_count": 9,
   "metadata": {
    "collapsed": true
   },
   "outputs": [],
   "source": [
    "def negate(f):\n",
    "    \"\"\"return a function that for any input x returns -f(x)\"\"\"\n",
    "    return lambda *args, **kwargs: -f(*args, **kwargs)\n",
    "\n",
    "def negate_all(f):\n",
    "    \"\"\"the same when f returns a list of numbers\"\"\"\n",
    "    return lambda *args, **kwargs: [-y for y in f(*args, **kwargs)]\n",
    "\n",
    "def maximise_batch(target_fn, gradient_fn, theta_0, tolerance=0.000001):\n",
    "    return minimise_batch(negate(target_fn), \n",
    "                         negate_all(gradient_fn),\n",
    "                         theta_0,\n",
    "                         tolerance)"
   ]
  },
  {
   "cell_type": "markdown",
   "metadata": {},
   "source": [
    "# Stochastic Gradient Descent\n",
    "\n",
    "Gradient descent is often used to choose the parameters of a model in such a way to minimise the notional error. Using the previous approach, each gradient step requires a prediction and compute the gradient for the dataset as a whole, which means each step takes a long time. \n",
    "\n",
    "Now, usually, these error functions are *additive*,meaning the predictive error on the whole dataset is simply the sum of the predictive errors for each point. \n",
    "\n",
    "When this is the case, we can instead apply a technique called *stochastic gradient descent* which computes the gradient and takes a step for only one poin at a time. It cycles over the data repeadedly until it reaches a stopping point. \n",
    "\n",
    "During each cycle, we'll iterate through the data set in a random order"
   ]
  },
  {
   "cell_type": "code",
   "execution_count": null,
   "metadata": {
    "collapsed": true
   },
   "outputs": [],
   "source": [
    "def in_random_order(data):\n",
    "    \"\"\"generator that redturns elements from a data set in random order\"\"\"\n",
    "    indexes = [i for i, _ in enumerate(data)]    # create a list of indexes\n",
    "    random.shuffle(indexes)                      # shuffle the indexes\n",
    "    for i in indexes:                            # return data in that randomised order\n",
    "        yield data[i]\n",
    "        "
   ]
  },
  {
   "cell_type": "markdown",
   "metadata": {},
   "source": [
    "And, we'll want to take a gradient step for each data point. This approach leaves the possibility that we might circle around near a minimum forever, so whenever we stop getting improvements, we'll decrease the step size, then eventually stop iterating. "
   ]
  },
  {
   "cell_type": "code",
   "execution_count": 10,
   "metadata": {
    "collapsed": true
   },
   "outputs": [],
   "source": [
    "def minimise_stochastic(target_fn, gradient_fn, x, y, theta_0, alpha_0 = 0.01):\n",
    "    \n",
    "    data = zip(x,y)\n",
    "    theta = theta_0                   # initial guess\n",
    "    alpha = alpha_0                   # initial step size\n",
    "    min_theta, min_value = None, float('inf')  # store current minimum\n",
    "    iterations_with_no_improvement = 0\n",
    "    \n",
    "    # if we go over 100 iterations with no improvement, stop. \n",
    "    while iterations_with_no_improvement < 100:\n",
    "        value = sum(target_fn(x_i, y_i, theta) for x_i, y_i in data )\n",
    "        \n",
    "        if value <min_value:\n",
    "            # found a new minimum- store it \n",
    "            # use the original step size. \n",
    "            min_theta, min_value = theta, value\n",
    "            iterations_with_no_improvement = 0\n",
    "            alpha = alpha_0\n",
    "            \n",
    "        else:\n",
    "            # otherwise, not improving, so shrink step size. \n",
    "            iterations_with_no_improvement += 1\n",
    "            alpha *= 0.9\n",
    "            \n",
    "        for x_i, y_i in random_order(data):\n",
    "            gradient_i = gradient_fn(x_i, y_i, theta)\n",
    "            theta = la.vector_subtract(theta, scalar_multiply(alpha, gradient_i))\n",
    "            \n",
    "    return min_theta"
   ]
  },
  {
   "cell_type": "markdown",
   "metadata": {},
   "source": [
    "The stochastic functiona will typically be much faster than the batch version. Of cource, we'll need a maximise function, too.. "
   ]
  },
  {
   "cell_type": "code",
   "execution_count": 12,
   "metadata": {},
   "outputs": [],
   "source": [
    "def maximise_stochastic(target_fn, gradient_fn, x, y, theta_0, alpha_0=0.01):\n",
    "    return minimise_stochastic(negate(target_fn), \n",
    "                              negate_all(gradient_fn), \n",
    "                              x, y, theta_0, alpha_0)\n"
   ]
  },
  {
   "cell_type": "code",
   "execution_count": null,
   "metadata": {
    "collapsed": true
   },
   "outputs": [],
   "source": []
  }
 ],
 "metadata": {
  "kernelspec": {
   "display_name": "Python 3",
   "language": "python",
   "name": "python3"
  },
  "language_info": {
   "codemirror_mode": {
    "name": "ipython",
    "version": 3
   },
   "file_extension": ".py",
   "mimetype": "text/x-python",
   "name": "python",
   "nbconvert_exporter": "python",
   "pygments_lexer": "ipython3",
   "version": "3.6.2"
  }
 },
 "nbformat": 4,
 "nbformat_minor": 2
}
